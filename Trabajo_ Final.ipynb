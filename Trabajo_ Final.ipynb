{
 "cells": [
  {
   "cell_type": "code",
   "execution_count": 37,
   "metadata": {},
   "outputs": [],
   "source": [
    "# requests es para obtener una página web\n",
    "import requests\n",
    "\n",
    "# Cargando BeautifulSoup para obtener la información almacenada en la página \n",
    "from bs4 import BeautifulSoup\n",
    "\n",
    "# Importando librería (nos permite realizar busquedas a través de expresiones regulares)\n",
    "import re"
   ]
  },
  {
   "cell_type": "code",
   "execution_count": 57,
   "metadata": {},
   "outputs": [
    {
     "name": "stdout",
     "output_type": "stream",
     "text": [
      "https://www.paris.cl/belleza/maquillaje/rostro/dior/?start=0&sz=24\n",
      "https://www.paris.cl/belleza/maquillaje/rostro/dior/?start=24&sz=24\n"
     ]
    }
   ],
   "source": [
    "\n",
    "for pagina in range(2):\n",
    "    partida = 24*pagina\n",
    "    print(f\"https://www.paris.cl/belleza/maquillaje/rostro/dior/?start={partida}&sz=24\")\n"
   ]
  },
  {
   "cell_type": "code",
   "execution_count": 58,
   "metadata": {},
   "outputs": [
    {
     "name": "stdout",
     "output_type": "stream",
     "text": [
      "24\n",
      "Diorshow Maximizer 3D Lash Primer 001\n",
      "29600\n",
      "Dior Prestige MicroSerum De Rose Yeux 15 ml\n",
      "232900\n",
      "Base Dior Maquillaje Forever Undercover 35 Desert Beige \n",
      "51600\n",
      "Diorshow Iconic Overcurl Waterproof Máscara 091 Noir Black\n",
      "29600\n",
      "Base Dior Maquillaje Backstage Airflash 400 \n",
      "61500\n",
      "Base Dior Maquillaje Airflash 401 \n",
      "61500\n",
      "Base de Maquillaje Dior Forever 2.5 Neutral\n",
      "51600\n",
      "Base Dior Maquillaje Forever Cushion 20 \n",
      "57500\n",
      "Dior Forever Couture Luminizer 02 Pink Glow\n",
      "47600\n",
      "Base Dior Maquillaje Forever Undercover 20 Light Beige \n",
      "51600\n",
      "Rubor Dior Blush Color 459 Charnelle \n",
      "41100\n",
      "Base de Maquillaje Dior Forever Skin Glow 3 Neutral\n",
      "51600\n",
      "Base Dior Maquillaje Forever Natural Nude 4N \n",
      "51600\n",
      "Base de Maquillaje Dior Forever Skin Glow 2 Neutral\n",
      "51600\n",
      "Base Dior Maquillaje Forever Natural Nude 3N \n",
      "51600\n",
      "Base Dior Maquillaje Forever Cushion 30 \n",
      "57500\n",
      "Base Dior Maquillaje Forever Natural Nude 2.5N \n",
      "51600\n",
      "Primer Dior Maquillaje Airflash 1 \n",
      "49600\n",
      "Base de Maquillaje Dior Forever 3.5 Neutral\n",
      "51600\n",
      "Bronzer Dior Forever Natural Bronzer Powder 2 \n",
      "47600\n",
      "Base Dior Maquillaje Forever Natural Nude 3,5N \n",
      "51600\n",
      "Base de Maquillaje Dior Forever 2 Neutral\n",
      "51600\n",
      "Base de Maquillaje Dior Forever Skin Glow 4 Neutral\n",
      "51600\n",
      "Base Dior Maquillaje Forever Undercover 10 Ivory \n",
      "51600\n"
     ]
    }
   ],
   "source": [
    "all_products = page.find_all(class_=\"col-md-3 col-sm-4 col-xs-6 flex-item-products js-product-position\")\n",
    "print(len(all_products))\n",
    "\n",
    "for product in all_products:\n",
    "    # Obteniendo el nombre\n",
    "    name_product = product.find(class_=\"ellipsis_text\")\n",
    "    print(name_product.string.replace(\"\\n\",\"\"))\n",
    "\n",
    "    # Obteniendo el precio\n",
    "    price_product = product.find(class_=\"price__text\")\n",
    "    price = price_product.find(text=re.compile(\"\\$\"))\n",
    "    print(int(price_product.string.replace(\"$\",\"\").replace(\".\",\"\")))\n",
    "    \n",
    "  "
   ]
  }
 ],
 "metadata": {
  "kernelspec": {
   "display_name": "Python 3.10.8 64-bit (microsoft store)",
   "language": "python",
   "name": "python3"
  },
  "language_info": {
   "codemirror_mode": {
    "name": "ipython",
    "version": 3
   },
   "file_extension": ".py",
   "mimetype": "text/x-python",
   "name": "python",
   "nbconvert_exporter": "python",
   "pygments_lexer": "ipython3",
   "version": "3.10.9"
  },
  "orig_nbformat": 4,
  "vscode": {
   "interpreter": {
    "hash": "eaaec6454b039b886e871747ad2e04dfc5c821cd139b8d63e36e2ad90cddee97"
   }
  }
 },
 "nbformat": 4,
 "nbformat_minor": 2
}
